{
  "nbformat": 4,
  "nbformat_minor": 0,
  "metadata": {
    "colab": {
      "provenance": [],
      "collapsed_sections": [
        "V0LM_hF2k1Rp",
        "ruOXAuAcZvKd",
        "Lx9AyriHXOHF",
        "itzv20eNXk3G",
        "PRXxdfXxXI90"
      ],
      "toc_visible": true,
      "include_colab_link": true
    },
    "kernelspec": {
      "name": "python3",
      "display_name": "Python 3"
    },
    "language_info": {
      "name": "python"
    }
  },
  "cells": [
    {
      "cell_type": "markdown",
      "metadata": {
        "id": "view-in-github",
        "colab_type": "text"
      },
      "source": [
        "<a href=\"https://colab.research.google.com/github/viniciusgcjr/linkedin_posts/blob/main/daily_tasks_python/Daily_tasks_python_INTRO.ipynb\" target=\"_parent\"><img src=\"https://colab.research.google.com/assets/colab-badge.svg\" alt=\"Open In Colab\"/></a>"
      ]
    },
    {
      "cell_type": "markdown",
      "source": [
        "# Slack"
      ],
      "metadata": {
        "id": "AQ9nJl3HYbT8"
      }
    },
    {
      "cell_type": "code",
      "source": [
        "import requests\n",
        "import json\n",
        "!!!!!"
      ],
      "metadata": {
        "id": "w7tSlx-mYcB3",
        "colab": {
          "base_uri": "https://localhost:8080/"
        },
        "outputId": "4072ae1b-a460-4832-9d62-d1245cb39ad7"
      },
      "execution_count": 1,
      "outputs": [
        {
          "output_type": "execute_result",
          "data": {
            "text/plain": [
              "['/bin/bash: !!!: command not found']"
            ]
          },
          "metadata": {},
          "execution_count": 1
        }
      ]
    },
    {
      "cell_type": "markdown",
      "source": [
        "[Tutorial - Slack API com Python](https://practicaldatascience.co.uk/data-science/how-to-send-a-slack-message-in-python-using-webhooks)"
      ],
      "metadata": {
        "id": "t_AEQTcmgMUi"
      }
    },
    {
      "cell_type": "code",
      "source": [
        "def send_slack_message(payload, webhook):\n",
        "    \"\"\"Send a Slack message to a channel via a webhook.\n",
        "\n",
        "    Args:\n",
        "        payload (dict): Dictionary containing Slack message, i.e. {\"text\": \"This is a test\"}\n",
        "        webhook (str): Full Slack webhook URL for your chosen channel.\n",
        "\n",
        "    Returns:\n",
        "        HTTP response code, i.e. <Response [503]>\n",
        "    \"\"\"\n",
        "\n",
        "    return requests.post(webhook, json.dumps(payload))"
      ],
      "metadata": {
        "id": "Dk6_NuB_d6sb"
      },
      "execution_count": null,
      "outputs": []
    },
    {
      "cell_type": "code",
      "source": [
        "webhook = \"<TOKEN SLACK>\"\n",
        "mensagem = 'Seja bem-vindo!'\n",
        "payload = {\"text\": mensagem}\n",
        "send_slack_message(payload, webhook)"
      ],
      "metadata": {
        "id": "XHsHldEQd94S"
      },
      "execution_count": null,
      "outputs": []
    },
    {
      "cell_type": "markdown",
      "source": [
        "## Importando dados do google planilhas"
      ],
      "metadata": {
        "id": "FibUUoUDxej5"
      }
    },
    {
      "cell_type": "code",
      "execution_count": null,
      "metadata": {
        "id": "JiJVCmu3dhFa"
      },
      "outputs": [],
      "source": [
        "from google.colab import auth\n",
        "auth.authenticate_user()\n",
        "\n",
        "import gspread\n",
        "from google.auth import default\n",
        "creds, _ = default()\n",
        "\n",
        "gc = gspread.authorize(creds)\n",
        "\n",
        "worksheet = gc.open('Formulario_inicial_respostas').sheet1\n",
        "\n",
        "# get_all_values gives a list of rows.\n",
        "rows = worksheet.get_all_values()\n",
        "#print(rows)\n",
        "\n",
        "# Convert to a DataFrame and render.\n",
        "import pandas as pd\n",
        "respostas = pd.DataFrame.from_records(rows)\n",
        "respostas.columns = respostas.iloc[0]\n",
        "respostas.drop(respostas.index[0], inplace = True)\n",
        "respostas"
      ]
    },
    {
      "cell_type": "code",
      "source": [
        "respostas['Já estudou programação?'].value_counts().plot(kind='bar', title='Quem Estudou Programação')"
      ],
      "metadata": {
        "id": "E8T_ZmSxeri4"
      },
      "execution_count": null,
      "outputs": []
    },
    {
      "cell_type": "code",
      "source": [
        "respostas['Qual o email que foi cadastrado no slack?'].values"
      ],
      "metadata": {
        "id": "hcHGUW2-Hl31"
      },
      "execution_count": null,
      "outputs": []
    },
    {
      "cell_type": "markdown",
      "source": [
        "## Salvar dados no google planilhas"
      ],
      "metadata": {
        "id": "d1igWYQexg__"
      }
    },
    {
      "cell_type": "code",
      "source": [
        "from google.colab import auth\n",
        "auth.authenticate_user()\n",
        "\n",
        "import gspread\n",
        "from google.auth import default\n",
        "creds, _ = default()\n",
        "\n",
        "gc = gspread.authorize(creds)\n",
        "\n",
        "sh = gc.create('A new spreadsheet')\n",
        "\n",
        "# Open our new sheet and add some data.\n",
        "worksheet = gc.open('A new spreadsheet').sheet1\n",
        "\n",
        "cell_list = worksheet.range('A1:C2')\n",
        "\n",
        "import random\n",
        "for cell in cell_list:\n",
        "  cell.value = random.randint(1, 10)\n",
        "\n",
        "worksheet.update_cells(cell_list)\n",
        "# Go to https://sheets.google.com to see your new spreadsheet."
      ],
      "metadata": {
        "id": "huainWfgxZ2C"
      },
      "execution_count": null,
      "outputs": []
    },
    {
      "cell_type": "markdown",
      "source": [
        "# Formulário Inicial"
      ],
      "metadata": {
        "id": "xm4EXif_dyrb"
      }
    },
    {
      "cell_type": "markdown",
      "source": [
        "# Baixar pdfs do site da Apac"
      ],
      "metadata": {
        "id": "uTZHiQYip8hf"
      }
    },
    {
      "cell_type": "code",
      "source": [
        "import requests\n",
        "\n",
        "\n",
        "def download_pdf(url, file_name):\n",
        "\n",
        "    headers = {'User-Agent': 'Mozilla/5.0 (Windows NT 6.1; Win64; x64) AppleWebKit/537.36 (KHTML, like Gecko) Chrome/105.0.0.0 Safari/537.36'}\n",
        "    response = requests.get(url, headers=headers)\n",
        "\n",
        "    if response.status_code == 200:\n",
        "        with open(file_name, \"wb\") as f:\n",
        "            f.write(response.content)\n",
        "    else:\n",
        "        print(response.status_code)"
      ],
      "metadata": {
        "id": "PxsyujhihZqq"
      },
      "execution_count": null,
      "outputs": []
    },
    {
      "cell_type": "code",
      "source": [
        "download_pdf('https://www.apac.pe.gov.br/uploads/Boletim-Pluviometrico-29-09-2022.pdf', 'boletim_chuva_29.pdf')"
      ],
      "metadata": {
        "id": "t6gNe55R0tWS"
      },
      "execution_count": null,
      "outputs": []
    },
    {
      "cell_type": "code",
      "source": [
        "url = 'https://www.apac.pe.gov.br/uploads/Boletim-Pluviometrico-30-09-2022.pdf'\n",
        "arquivo = 'boletim_chuva_30.pdf'\n",
        "download_pdf(url, arquivo)\n"
      ],
      "metadata": {
        "id": "tEZqSzDrpNN9"
      },
      "execution_count": null,
      "outputs": []
    },
    {
      "cell_type": "markdown",
      "source": [
        "# Baixar dados do INMET"
      ],
      "metadata": {
        "id": "sq6omGvgqBLv"
      }
    },
    {
      "cell_type": "code",
      "source": [
        "import json\n",
        "import pandas as pd"
      ],
      "metadata": {
        "id": "_DkhYmOOqXnW"
      },
      "execution_count": null,
      "outputs": []
    },
    {
      "cell_type": "code",
      "source": [
        "def recuperarDados(estadoEstacao):\n",
        "  response = requests.get(f'https://apitempo.inmet.gov.br/estacao/diaria/2020-01-01/2020-12-30/{estadoEstacao}')\n",
        "  data = json.loads(response.text)\n",
        "  df = pd.json_normalize(data)\n",
        "  return df"
      ],
      "metadata": {
        "id": "5puR2X_AplZf"
      },
      "execution_count": null,
      "outputs": []
    },
    {
      "cell_type": "code",
      "source": [
        "recife = recuperarDados(\"A301\")\n",
        "recife"
      ],
      "metadata": {
        "id": "2_DnzghiqQx6"
      },
      "execution_count": null,
      "outputs": []
    },
    {
      "cell_type": "markdown",
      "source": [
        "# FTP\n",
        "\n",
        "[Referência](https://docs.python.org/pt-br/3.7/library/ftplib.html#module-ftplib)"
      ],
      "metadata": {
        "id": "cmXilZs5g_5p"
      }
    },
    {
      "cell_type": "code",
      "source": [
        "import pandas as pd\n",
        "import ftplib\n",
        "import os\n",
        "ftp = ftplib.FTP('<endereço ftp>', '<usuario>', '<senha>')\n",
        "dir = 'APAC'\n",
        "ftp.cwd(dir)\n",
        "for i in range(1, 6):\n",
        "  estacao = dir + str(i).zfill(2)\n",
        "  ftp.cwd(estacao)\n",
        "\n",
        "  arquivo = estacao + '.csv'\n",
        "\n",
        "  pathdst = './'\n",
        "\n",
        "  with open(pathdst + os.sep + arquivo, 'wb') as file:\n",
        "    ftp.retrbinary(\"RETR Diaria.dat\", file.write)\n",
        "\n",
        "  ftp.cwd('../')"
      ],
      "metadata": {
        "id": "t8HRY6TxOv1S"
      },
      "execution_count": null,
      "outputs": []
    },
    {
      "cell_type": "code",
      "source": [
        "import glob\n",
        "filesglob = glob.glob('APAC*.csv')\n",
        "filesglob"
      ],
      "metadata": {
        "colab": {
          "base_uri": "https://localhost:8080/"
        },
        "id": "z6BfqKLkvnTF",
        "outputId": "2421ded5-9945-410e-acbd-809bc2819fcb"
      },
      "execution_count": null,
      "outputs": [
        {
          "output_type": "execute_result",
          "data": {
            "text/plain": [
              "['APAC04.csv', 'APAC05.csv', 'APAC03.csv', 'APAC01.csv', 'APAC02.csv']"
            ]
          },
          "metadata": {},
          "execution_count": 5
        }
      ]
    },
    {
      "cell_type": "code",
      "metadata": {
        "colab": {
          "base_uri": "https://localhost:8080/",
          "height": 404
        },
        "id": "5fb_4mc0jN6P",
        "outputId": "6e1138b3-7e61-4739-cdd0-1786f96aac36"
      },
      "source": [
        "df_header = pd.read_csv('APAC01.csv', skiprows=1, header=0, encoding = \"ISO-8859-1\", delimiter=',').head()\n",
        "df_header.head()"
      ],
      "execution_count": null,
      "outputs": [
        {
          "output_type": "execute_result",
          "data": {
            "text/plain": [
              "             TIMESTAMP RECORD Enc_RH_Min           Enc_RH_TMn BattV_Min  \\\n",
              "0                   TS     RN          %                  NaN     Volts   \n",
              "1                  NaN    NaN        Min                  TMn       Min   \n",
              "2  2019-07-25 00:00:00    110      63.66  2019-07-24 15:47:00     12.62   \n",
              "3  2019-07-26 00:00:00    111      55.66  2019-07-25 14:25:00     12.57   \n",
              "4  2019-07-27 00:00:00    112      63.13  2019-07-26 15:15:00     12.64   \n",
              "\n",
              "  ChgInV_Min           ChgInV_TMn ChgInI_Min           ChgInI_TMn BP_mbar  \\\n",
              "0          V                  NaN          A                  NaN    mbar   \n",
              "1        Min                  TMn        Min                  TMn     Smp   \n",
              "2      0.047  2019-07-24 02:46:30          0  2019-07-24 00:00:30   616.9   \n",
              "3      0.048  2019-07-25 02:52:00          0  2019-07-25 00:00:30     500   \n",
              "4      0.047  2019-07-26 05:51:00          0  2019-07-26 00:00:30   722.6   \n",
              "\n",
              "   ... Vel_Vento_S_WVT_10 Dir_Vento_D1_WVT_10 Dir_Vento_SD1_WVT_10  \\\n",
              "0  ...                m/s                 Deg                  Deg   \n",
              "1  ...                WVc                 WVc                  WVc   \n",
              "2  ...              3.702                 146                19.88   \n",
              "3  ...              3.662               137.3                22.14   \n",
              "4  ...              3.622               135.7                22.94   \n",
              "\n",
              "  Wind_Direction_10 Wind_Speed_10_Max    Wind_Speed_10_TMx Wind_Speed_10_Min  \\\n",
              "0               Deg               m/s                  NaN               m/s   \n",
              "1               Smp               Max                  TMx               Min   \n",
              "2               178               9.2  2019-07-24 08:02:00               0.5   \n",
              "3               124              10.5  2019-07-25 12:44:30               0.4   \n",
              "4               141               9.2  2019-07-26 14:12:00               0.5   \n",
              "\n",
              "     Wind_Speed_10_TMn   ETos    Rso  \n",
              "0                  NaN     mm  MJ/m²  \n",
              "1                  TMn   ETXs    Rso  \n",
              "2  2019-07-24 15:27:30   8.16  3.331  \n",
              "3  2019-07-25 04:03:30  19.68   3.34  \n",
              "4  2019-07-26 07:24:30  13.25  3.343  \n",
              "\n",
              "[5 rows x 100 columns]"
            ],
            "text/html": [
              "\n",
              "  <div id=\"df-c082af4b-5ead-4425-86a0-70889adce114\">\n",
              "    <div class=\"colab-df-container\">\n",
              "      <div>\n",
              "<style scoped>\n",
              "    .dataframe tbody tr th:only-of-type {\n",
              "        vertical-align: middle;\n",
              "    }\n",
              "\n",
              "    .dataframe tbody tr th {\n",
              "        vertical-align: top;\n",
              "    }\n",
              "\n",
              "    .dataframe thead th {\n",
              "        text-align: right;\n",
              "    }\n",
              "</style>\n",
              "<table border=\"1\" class=\"dataframe\">\n",
              "  <thead>\n",
              "    <tr style=\"text-align: right;\">\n",
              "      <th></th>\n",
              "      <th>TIMESTAMP</th>\n",
              "      <th>RECORD</th>\n",
              "      <th>Enc_RH_Min</th>\n",
              "      <th>Enc_RH_TMn</th>\n",
              "      <th>BattV_Min</th>\n",
              "      <th>ChgInV_Min</th>\n",
              "      <th>ChgInV_TMn</th>\n",
              "      <th>ChgInI_Min</th>\n",
              "      <th>ChgInI_TMn</th>\n",
              "      <th>BP_mbar</th>\n",
              "      <th>...</th>\n",
              "      <th>Vel_Vento_S_WVT_10</th>\n",
              "      <th>Dir_Vento_D1_WVT_10</th>\n",
              "      <th>Dir_Vento_SD1_WVT_10</th>\n",
              "      <th>Wind_Direction_10</th>\n",
              "      <th>Wind_Speed_10_Max</th>\n",
              "      <th>Wind_Speed_10_TMx</th>\n",
              "      <th>Wind_Speed_10_Min</th>\n",
              "      <th>Wind_Speed_10_TMn</th>\n",
              "      <th>ETos</th>\n",
              "      <th>Rso</th>\n",
              "    </tr>\n",
              "  </thead>\n",
              "  <tbody>\n",
              "    <tr>\n",
              "      <th>0</th>\n",
              "      <td>TS</td>\n",
              "      <td>RN</td>\n",
              "      <td>%</td>\n",
              "      <td>NaN</td>\n",
              "      <td>Volts</td>\n",
              "      <td>V</td>\n",
              "      <td>NaN</td>\n",
              "      <td>A</td>\n",
              "      <td>NaN</td>\n",
              "      <td>mbar</td>\n",
              "      <td>...</td>\n",
              "      <td>m/s</td>\n",
              "      <td>Deg</td>\n",
              "      <td>Deg</td>\n",
              "      <td>Deg</td>\n",
              "      <td>m/s</td>\n",
              "      <td>NaN</td>\n",
              "      <td>m/s</td>\n",
              "      <td>NaN</td>\n",
              "      <td>mm</td>\n",
              "      <td>MJ/m²</td>\n",
              "    </tr>\n",
              "    <tr>\n",
              "      <th>1</th>\n",
              "      <td>NaN</td>\n",
              "      <td>NaN</td>\n",
              "      <td>Min</td>\n",
              "      <td>TMn</td>\n",
              "      <td>Min</td>\n",
              "      <td>Min</td>\n",
              "      <td>TMn</td>\n",
              "      <td>Min</td>\n",
              "      <td>TMn</td>\n",
              "      <td>Smp</td>\n",
              "      <td>...</td>\n",
              "      <td>WVc</td>\n",
              "      <td>WVc</td>\n",
              "      <td>WVc</td>\n",
              "      <td>Smp</td>\n",
              "      <td>Max</td>\n",
              "      <td>TMx</td>\n",
              "      <td>Min</td>\n",
              "      <td>TMn</td>\n",
              "      <td>ETXs</td>\n",
              "      <td>Rso</td>\n",
              "    </tr>\n",
              "    <tr>\n",
              "      <th>2</th>\n",
              "      <td>2019-07-25 00:00:00</td>\n",
              "      <td>110</td>\n",
              "      <td>63.66</td>\n",
              "      <td>2019-07-24 15:47:00</td>\n",
              "      <td>12.62</td>\n",
              "      <td>0.047</td>\n",
              "      <td>2019-07-24 02:46:30</td>\n",
              "      <td>0</td>\n",
              "      <td>2019-07-24 00:00:30</td>\n",
              "      <td>616.9</td>\n",
              "      <td>...</td>\n",
              "      <td>3.702</td>\n",
              "      <td>146</td>\n",
              "      <td>19.88</td>\n",
              "      <td>178</td>\n",
              "      <td>9.2</td>\n",
              "      <td>2019-07-24 08:02:00</td>\n",
              "      <td>0.5</td>\n",
              "      <td>2019-07-24 15:27:30</td>\n",
              "      <td>8.16</td>\n",
              "      <td>3.331</td>\n",
              "    </tr>\n",
              "    <tr>\n",
              "      <th>3</th>\n",
              "      <td>2019-07-26 00:00:00</td>\n",
              "      <td>111</td>\n",
              "      <td>55.66</td>\n",
              "      <td>2019-07-25 14:25:00</td>\n",
              "      <td>12.57</td>\n",
              "      <td>0.048</td>\n",
              "      <td>2019-07-25 02:52:00</td>\n",
              "      <td>0</td>\n",
              "      <td>2019-07-25 00:00:30</td>\n",
              "      <td>500</td>\n",
              "      <td>...</td>\n",
              "      <td>3.662</td>\n",
              "      <td>137.3</td>\n",
              "      <td>22.14</td>\n",
              "      <td>124</td>\n",
              "      <td>10.5</td>\n",
              "      <td>2019-07-25 12:44:30</td>\n",
              "      <td>0.4</td>\n",
              "      <td>2019-07-25 04:03:30</td>\n",
              "      <td>19.68</td>\n",
              "      <td>3.34</td>\n",
              "    </tr>\n",
              "    <tr>\n",
              "      <th>4</th>\n",
              "      <td>2019-07-27 00:00:00</td>\n",
              "      <td>112</td>\n",
              "      <td>63.13</td>\n",
              "      <td>2019-07-26 15:15:00</td>\n",
              "      <td>12.64</td>\n",
              "      <td>0.047</td>\n",
              "      <td>2019-07-26 05:51:00</td>\n",
              "      <td>0</td>\n",
              "      <td>2019-07-26 00:00:30</td>\n",
              "      <td>722.6</td>\n",
              "      <td>...</td>\n",
              "      <td>3.622</td>\n",
              "      <td>135.7</td>\n",
              "      <td>22.94</td>\n",
              "      <td>141</td>\n",
              "      <td>9.2</td>\n",
              "      <td>2019-07-26 14:12:00</td>\n",
              "      <td>0.5</td>\n",
              "      <td>2019-07-26 07:24:30</td>\n",
              "      <td>13.25</td>\n",
              "      <td>3.343</td>\n",
              "    </tr>\n",
              "  </tbody>\n",
              "</table>\n",
              "<p>5 rows × 100 columns</p>\n",
              "</div>\n",
              "      <button class=\"colab-df-convert\" onclick=\"convertToInteractive('df-c082af4b-5ead-4425-86a0-70889adce114')\"\n",
              "              title=\"Convert this dataframe to an interactive table.\"\n",
              "              style=\"display:none;\">\n",
              "        \n",
              "  <svg xmlns=\"http://www.w3.org/2000/svg\" height=\"24px\"viewBox=\"0 0 24 24\"\n",
              "       width=\"24px\">\n",
              "    <path d=\"M0 0h24v24H0V0z\" fill=\"none\"/>\n",
              "    <path d=\"M18.56 5.44l.94 2.06.94-2.06 2.06-.94-2.06-.94-.94-2.06-.94 2.06-2.06.94zm-11 1L8.5 8.5l.94-2.06 2.06-.94-2.06-.94L8.5 2.5l-.94 2.06-2.06.94zm10 10l.94 2.06.94-2.06 2.06-.94-2.06-.94-.94-2.06-.94 2.06-2.06.94z\"/><path d=\"M17.41 7.96l-1.37-1.37c-.4-.4-.92-.59-1.43-.59-.52 0-1.04.2-1.43.59L10.3 9.45l-7.72 7.72c-.78.78-.78 2.05 0 2.83L4 21.41c.39.39.9.59 1.41.59.51 0 1.02-.2 1.41-.59l7.78-7.78 2.81-2.81c.8-.78.8-2.07 0-2.86zM5.41 20L4 18.59l7.72-7.72 1.47 1.35L5.41 20z\"/>\n",
              "  </svg>\n",
              "      </button>\n",
              "      \n",
              "  <style>\n",
              "    .colab-df-container {\n",
              "      display:flex;\n",
              "      flex-wrap:wrap;\n",
              "      gap: 12px;\n",
              "    }\n",
              "\n",
              "    .colab-df-convert {\n",
              "      background-color: #E8F0FE;\n",
              "      border: none;\n",
              "      border-radius: 50%;\n",
              "      cursor: pointer;\n",
              "      display: none;\n",
              "      fill: #1967D2;\n",
              "      height: 32px;\n",
              "      padding: 0 0 0 0;\n",
              "      width: 32px;\n",
              "    }\n",
              "\n",
              "    .colab-df-convert:hover {\n",
              "      background-color: #E2EBFA;\n",
              "      box-shadow: 0px 1px 2px rgba(60, 64, 67, 0.3), 0px 1px 3px 1px rgba(60, 64, 67, 0.15);\n",
              "      fill: #174EA6;\n",
              "    }\n",
              "\n",
              "    [theme=dark] .colab-df-convert {\n",
              "      background-color: #3B4455;\n",
              "      fill: #D2E3FC;\n",
              "    }\n",
              "\n",
              "    [theme=dark] .colab-df-convert:hover {\n",
              "      background-color: #434B5C;\n",
              "      box-shadow: 0px 1px 3px 1px rgba(0, 0, 0, 0.15);\n",
              "      filter: drop-shadow(0px 1px 2px rgba(0, 0, 0, 0.3));\n",
              "      fill: #FFFFFF;\n",
              "    }\n",
              "  </style>\n",
              "\n",
              "      <script>\n",
              "        const buttonEl =\n",
              "          document.querySelector('#df-c082af4b-5ead-4425-86a0-70889adce114 button.colab-df-convert');\n",
              "        buttonEl.style.display =\n",
              "          google.colab.kernel.accessAllowed ? 'block' : 'none';\n",
              "\n",
              "        async function convertToInteractive(key) {\n",
              "          const element = document.querySelector('#df-c082af4b-5ead-4425-86a0-70889adce114');\n",
              "          const dataTable =\n",
              "            await google.colab.kernel.invokeFunction('convertToInteractive',\n",
              "                                                     [key], {});\n",
              "          if (!dataTable) return;\n",
              "\n",
              "          const docLinkHtml = 'Like what you see? Visit the ' +\n",
              "            '<a target=\"_blank\" href=https://colab.research.google.com/notebooks/data_table.ipynb>data table notebook</a>'\n",
              "            + ' to learn more about interactive tables.';\n",
              "          element.innerHTML = '';\n",
              "          dataTable['output_type'] = 'display_data';\n",
              "          await google.colab.output.renderOutput(dataTable, element);\n",
              "          const docLink = document.createElement('div');\n",
              "          docLink.innerHTML = docLinkHtml;\n",
              "          element.appendChild(docLink);\n",
              "        }\n",
              "      </script>\n",
              "    </div>\n",
              "  </div>\n",
              "  "
            ]
          },
          "metadata": {},
          "execution_count": 6
        }
      ]
    },
    {
      "cell_type": "markdown",
      "source": [
        "# SQL\n",
        "\n",
        "[Referência](https://docs.python.org/pt-br/3.7/library/sqlite3.html#module-sqlite3)"
      ],
      "metadata": {
        "id": "abkO5dU0d199"
      }
    },
    {
      "cell_type": "code",
      "source": [
        "import sqlite3\n",
        "conn = sqlite3.connect('example.db')\n",
        "\n"
      ],
      "metadata": {
        "id": "lZBYDzvRObxS"
      },
      "execution_count": null,
      "outputs": []
    },
    {
      "cell_type": "code",
      "source": [
        "c = conn.cursor()\n",
        "\n",
        "# Create table\n",
        "c.execute('''CREATE TABLE stocks\n",
        "             (date text, trans text, symbol text, qty real, price real)''')\n",
        "\n",
        "# Insert a row of data\n",
        "c.execute(\"INSERT INTO stocks VALUES ('2020-01-05','BUY','RHAT',100,35.14)\")\n",
        "\n",
        "# Save (commit) the changes\n",
        "conn.commit()\n",
        "\n",
        "# We can also close the connection if we are done with it.\n",
        "# Just be sure any changes have been committed or they will be lost.\n"
      ],
      "metadata": {
        "id": "Rg1Vuu3vZUtX"
      },
      "execution_count": null,
      "outputs": []
    },
    {
      "cell_type": "code",
      "source": [
        "conn = sqlite3.connect('example.db')\n",
        "c = conn.cursor()\n",
        "c.execute(\"SELECT * FROM stocks\")\n",
        "print(c.fetchall())\n",
        "conn.commit()\n",
        "conn.close()"
      ],
      "metadata": {
        "id": "rtcraJoWc844"
      },
      "execution_count": null,
      "outputs": []
    },
    {
      "cell_type": "code",
      "source": [],
      "metadata": {
        "id": "P4f41pNyxDud"
      },
      "execution_count": null,
      "outputs": []
    },
    {
      "cell_type": "code",
      "source": [],
      "metadata": {
        "id": "xghM4m8WywtT"
      },
      "execution_count": null,
      "outputs": []
    },
    {
      "cell_type": "markdown",
      "source": [
        "# PDF e WORD"
      ],
      "metadata": {
        "id": "Es0QIhVdjD_5"
      }
    },
    {
      "cell_type": "markdown",
      "source": [
        "### WORD"
      ],
      "metadata": {
        "id": "V0LM_hF2k1Rp"
      }
    },
    {
      "cell_type": "code",
      "source": [
        "pip install python-docx"
      ],
      "metadata": {
        "id": "MYujtQ_KkRaB"
      },
      "execution_count": null,
      "outputs": []
    },
    {
      "cell_type": "code",
      "source": [
        "import docx\n",
        "doc = docx.Document()\n",
        "doc.add_paragraph('Hello world!')\n",
        "doc.save('helloworld.docx')\n",
        "\n"
      ],
      "metadata": {
        "id": "HqBn1qwajfBb"
      },
      "execution_count": null,
      "outputs": []
    },
    {
      "cell_type": "code",
      "source": [
        "download_pdf('https://www.apac.pe.gov.br/images/Marca_Apac_2020_hor_positiva.png', 'logo_apac')"
      ],
      "metadata": {
        "id": "L-VojJc6ztLW"
      },
      "execution_count": null,
      "outputs": []
    },
    {
      "cell_type": "code",
      "source": [],
      "metadata": {
        "id": "4duDEDTE0_us"
      },
      "execution_count": null,
      "outputs": []
    },
    {
      "cell_type": "code",
      "source": [
        "from docx import Document\n",
        "from docx.shared import Inches\n",
        "\n",
        "document = Document()\n",
        "\n",
        "document.add_heading('Document Title', 0)\n",
        "\n",
        "p = document.add_paragraph('A plain paragraph having some ')\n",
        "p.add_run('bold').bold = True\n",
        "p.add_run(' and some ')\n",
        "p.add_run('italic.').italic = True\n",
        "\n",
        "document.add_heading('Heading, level 1', level=1)\n",
        "document.add_paragraph('Intense quote', style='Intense Quote')\n",
        "\n",
        "document.add_paragraph(\n",
        "    'first item in unordered list', style='List Bullet'\n",
        ")\n",
        "document.add_paragraph(\n",
        "    'first item in ordered list', style='List Number'\n",
        ")\n",
        "\n",
        "document.add_picture('/content/logo_apac', width=Inches(1.25))\n",
        "\n",
        "records = (\n",
        "    (3, '101', 'Spam'),\n",
        "    (7, '422', 'Eggs'),\n",
        "    (4, '631', 'Spam, spam, eggs, and spam')\n",
        ")\n",
        "\n",
        "table = document.add_table(rows=1, cols=3)\n",
        "hdr_cells = table.rows[0].cells\n",
        "hdr_cells[0].text = 'Qty'\n",
        "hdr_cells[1].text = 'Id'\n",
        "hdr_cells[2].text = 'Desc'\n",
        "for qty, id, desc in records:\n",
        "    row_cells = table.add_row().cells\n",
        "    row_cells[0].text = str(qty)\n",
        "    row_cells[1].text = id\n",
        "    row_cells[2].text = desc\n",
        "\n",
        "document.add_page_break()\n",
        "\n",
        "document.save('demo.docx')"
      ],
      "metadata": {
        "id": "X_6ENt95GVZf"
      },
      "execution_count": null,
      "outputs": []
    },
    {
      "cell_type": "markdown",
      "source": [
        "https://python-docx.readthedocs.io/en/latest/"
      ],
      "metadata": {
        "id": "oby-2Z0SIhkd"
      }
    },
    {
      "cell_type": "markdown",
      "source": [
        "### PDF"
      ],
      "metadata": {
        "id": "ruOXAuAcZvKd"
      }
    },
    {
      "cell_type": "markdown",
      "source": [
        "### Extrair Informações"
      ],
      "metadata": {
        "id": "Lx9AyriHXOHF"
      }
    },
    {
      "cell_type": "code",
      "source": [
        "pip install PyPDF2"
      ],
      "metadata": {
        "id": "GlMOwk8bjFlJ"
      },
      "execution_count": null,
      "outputs": []
    },
    {
      "cell_type": "code",
      "source": [
        "import PyPDF2"
      ],
      "metadata": {
        "id": "zhzQyUvLjFBL"
      },
      "execution_count": null,
      "outputs": []
    },
    {
      "cell_type": "code",
      "source": [
        "pdfFileObj = open('/content/2022.0126 Reservatório TJ JULHO.pdf', 'rb')\n",
        "pdfReader = PyPDF2.PdfFileReader(pdfFileObj)\n",
        "pdfReader.numPages"
      ],
      "metadata": {
        "id": "TIlS9piDC6oI"
      },
      "execution_count": null,
      "outputs": []
    },
    {
      "cell_type": "code",
      "source": [
        "pageObj = pdfReader.getPage(0)\n",
        "text_from_pdf = pageObj.extractText()\n",
        "text_from_pdf"
      ],
      "metadata": {
        "id": "COkMLEux2zv1"
      },
      "execution_count": null,
      "outputs": []
    },
    {
      "cell_type": "markdown",
      "source": [
        "### Regular Expressions\n",
        "\n",
        "[Referência](https://docs.python.org/3/library/re.html)"
      ],
      "metadata": {
        "id": "itzv20eNXk3G"
      }
    },
    {
      "cell_type": "code",
      "source": [
        "import re\n",
        "\n",
        "codigo = re.findall('(Código Ponto de Coleta) (?P<Code>\\w{2}-\\d{2})', text_from_pdf)\n",
        "print(codigo[0][1])\n",
        "data_coleta = re.findall('(Data da Coleta) (?P<Data>\\d{2}\\/\\d{2}\\/\\d{4})', text_from_pdf)\n",
        "print(data_coleta[0][1])"
      ],
      "metadata": {
        "id": "EHuntBDsOitV"
      },
      "execution_count": null,
      "outputs": []
    },
    {
      "cell_type": "code",
      "source": [
        "import shutil\n",
        "shutil.move('/content/2022.0126 Reservatório TJ JULHO.pdf', f'/content/Reservatorio_{codigo[0][1]}.pdf')"
      ],
      "metadata": {
        "id": "6h5CCE0iZAwO"
      },
      "execution_count": null,
      "outputs": []
    },
    {
      "cell_type": "markdown",
      "source": [
        "## Extrair Tabelas"
      ],
      "metadata": {
        "id": "jn60ls8OX0AN"
      }
    },
    {
      "cell_type": "code",
      "source": [
        "pip install -q tabula-py"
      ],
      "metadata": {
        "id": "qPIpljMFNzE7"
      },
      "execution_count": null,
      "outputs": []
    },
    {
      "cell_type": "code",
      "source": [
        "import tabula\n",
        "\n",
        "#tabula.environment_info()"
      ],
      "metadata": {
        "id": "IR9qR-bsTTx3"
      },
      "execution_count": null,
      "outputs": []
    },
    {
      "cell_type": "code",
      "source": [
        "\n",
        "pdf_path = \"/content/CB 54- 692-2022- RE 194.658 AGENCIA PERNAMBUCANA DE AGUAS E CLIMA APAC (1).pdf\"\n",
        "\n",
        "dfs = tabula.read_pdf(pdf_path)\n",
        "print(len(dfs))\n",
        "dfs[0].to_csv('teste')"
      ],
      "metadata": {
        "id": "2h0YTU5HTb4s"
      },
      "execution_count": null,
      "outputs": []
    },
    {
      "cell_type": "markdown",
      "source": [
        "### Combinar PDFs"
      ],
      "metadata": {
        "id": "PRXxdfXxXI90"
      }
    },
    {
      "cell_type": "code",
      "source": [
        "import PyPDF2\n",
        "pdf1File = open('boletim_chuva_29.pdf', 'rb')\n",
        "pdf2File = open('boletim_chuva_30.pdf', 'rb')\n",
        "pdf1Reader = PyPDF2.PdfFileReader(pdf1File)\n",
        "pdf2Reader = PyPDF2.PdfFileReader(pdf2File)\n",
        "pdfWriter = PyPDF2.PdfFileWriter()\n",
        "for pageNum in range(pdf1Reader.numPages - 3 ): #slice das pgs desejadas\n",
        "  pageObj = pdf1Reader.getPage(pageNum)\n",
        "  pdfWriter.addPage(pageObj)\n",
        "for pageNum in range(pdf2Reader.numPages - 2): #slice das pgs desejadas\n",
        "  pageObj = pdf2Reader.getPage(pageNum)\n",
        "  pdfWriter.addPage(pageObj)\n",
        "pdfOutputFile = open('boletinscombinados.pdf', 'wb')\n",
        "pdfWriter.write(pdfOutputFile)\n",
        "pdfOutputFile.close()\n",
        "pdf1File.close()\n",
        "pdf2File.close()"
      ],
      "metadata": {
        "id": "xTW5Zl5cgAe4"
      },
      "execution_count": null,
      "outputs": []
    },
    {
      "cell_type": "markdown",
      "source": [
        "# Satélite"
      ],
      "metadata": {
        "id": "gtICxnvt48r5"
      }
    },
    {
      "cell_type": "code",
      "source": [
        "!wget -c https://noaa-goes16.s3.amazonaws.com/ABI-L2-CMIPF/2019/198/12/OR_ABI-L2-CMIPF-M6C13_G16_s20191981200396_e20191981210116_c20191981210189.nc"
      ],
      "metadata": {
        "id": "pgqwvGlG474J"
      },
      "execution_count": null,
      "outputs": []
    },
    {
      "cell_type": "code",
      "source": [
        "\n",
        "from netCDF4 import Dataset     #Para ler arquivo de satélite\n",
        "import matplotlib.pyplot as plt\n",
        "from datetime import datetime\n",
        "\n",
        "file = Dataset(\"/content/OR_ABI-L2-CMIPF-M6C13_G16_s20191981200396_e20191981210116_c20191981210189.nc\")\n",
        "\n",
        "\n",
        "data = file.variables['CMI'][:] - 273.15 #ler tabela de dados do satélite\n",
        "\n",
        "#Plotar mapa\n",
        "plt.figure(figsize=(7,7))\n",
        "plt.imshow(data, vmin=-80, vmax=40, cmap='jet')\n",
        "plt.colorbar(label='Brightness Temperature (°C)', extend='both', orientation='horizontal', pad=0.05, fraction=0.05)\n",
        "\n",
        "date = (datetime.strptime(file.time_coverage_start, '%Y-%m-%dT%H:%M:%S.%fZ'))\n",
        "\n",
        "plt.title('GOES-16 Band 13 ' + date.strftime('%Y-%m-%d %H:%M') + ' UTC', fontweight='bold', fontsize=10, loc='left')\n",
        "plt.title('Full Disk', fontsize=10, loc='right')\n",
        "\n",
        "plt.savefig('/content/satelite_goes.png')\n",
        "\n",
        "plt.show()"
      ],
      "metadata": {
        "id": "kECruXgP5pSq"
      },
      "execution_count": null,
      "outputs": []
    },
    {
      "cell_type": "markdown",
      "source": [
        "# Mapas"
      ],
      "metadata": {
        "id": "0A29HPMv2nzf"
      }
    },
    {
      "cell_type": "code",
      "source": [
        "pontos = {'lat': [-8.044355,-8.045071, -8.045351, -8.044688],\t'lon': [-34.875557, -34.876049, -34.875596, -34.875131]}\n",
        "apac = pd.DataFrame(data=pontos)\n",
        "apac\n"
      ],
      "metadata": {
        "id": "ZFxyGZ2Z4sy0"
      },
      "execution_count": null,
      "outputs": []
    },
    {
      "cell_type": "code",
      "source": [
        "import folium\n",
        "map = folium.Map(location = apac.iloc[0], zoom_start = 20)\n",
        "for _, local in apac.iterrows():\n",
        "  folium.Marker(location=[local['lat'], local['lon']],\n",
        "                popup =\n",
        "                            \"Latitude: \" + str(local['lat']) + '<br>' +\n",
        "                            \"Longitude: \" + str(local['lon']),\n",
        "                tooltip='Detalhes').add_to(map)\n",
        "\n",
        "map"
      ],
      "metadata": {
        "id": "x1YQscFV6P1t"
      },
      "execution_count": null,
      "outputs": []
    }
  ]
}